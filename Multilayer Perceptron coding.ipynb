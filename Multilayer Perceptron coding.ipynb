{
 "cells": [
  {
   "cell_type": "markdown",
   "metadata": {
    "id": "Dy02-fC3n8-R"
   },
   "source": [
    "# **생능 출판사 \"으뜸 머신러닝\"(1판) 교재의 소스 코드**\n",
    "# *7장 인공신경망기초 코드*\n",
    "---\n",
    "* 출판사 : 생능 출판사( http://www.booksr.co.kr/ )\n",
    "* 으뜸 파이썬 저자 : 강영민, 박동규, 김성수\n",
    "*  소스코드 저장소 : https://github.com/dknife/ML\n",
    "*  저작권 : 본 주피터 노트북 코드는 자유롭게 배포가능하지만 위의 출판사, 저서, 저자표기와 함께 배포해 주십시오.\n",
    "---"
   ]
  },
  {
   "cell_type": "markdown",
   "metadata": {
    "id": "R3cPDI59HVbB"
   },
   "source": [
    "### 도전문제 7.1 XOR의 진리표를 이용하여 퍼셉트론을 학습시켜 보자"
   ]
  },
  {
   "cell_type": "markdown",
   "metadata": {
    "id": "oQhR1VMYRjMH"
   },
   "source": [
    "### LAB 7-5 : XOR 연산이 가능한 다층 퍼셉트론 만들기"
   ]
  },
  {
   "cell_type": "code",
   "execution_count": 2,
   "metadata": {
    "id": "iYEggK_ARohF"
   },
   "outputs": [],
   "source": [
    "import numpy as np\n",
    "import matplotlib.pyplot as plt"
   ]
  },
  {
   "cell_type": "markdown",
   "metadata": {
    "id": "D2riW_3TStxJ"
   },
   "source": [
    "U: 연결강도 $\\mathbf U$ \n",
    "\n",
    "W: 연결강도 $\\mathbf W$\n",
    "\n",
    "learning_rate: 학습률 $\\eta$"
   ]
  },
  {
   "cell_type": "code",
   "execution_count": 3,
   "metadata": {
    "id": "3JFrADH8RyAm"
   },
   "outputs": [],
   "source": [
    "U = np.random.rand(3,3)   # 연결강도 \n",
    "W = np.random.rand(4,2)   # 연결강도 \n",
    "learning_rate = 1.0       # 학습률 "
   ]
  },
  {
   "cell_type": "code",
   "execution_count": 4,
   "metadata": {
    "id": "9sN0j9SeSPWt"
   },
   "outputs": [],
   "source": [
    "def sigmoid(v):\n",
    "    return 1 / (1+np.exp(-v))\n",
    "\n",
    "def derivative_sigmoid(v):\n",
    "    return v*(1-v)"
   ]
  },
  {
   "cell_type": "markdown",
   "metadata": {
    "id": "36cuWksBWC6A"
   },
   "source": [
    "순전파시 계산될 값들 : $\\mathbf h^{\\Sigma} ~ \\mathbf h^{\\phi} ~ \\mathbf h^{{\\phi}'}$\n",
    "\n",
    "역전파시 계산될 값들 : $\\mathbf e^h ~ \\delta^h$\n",
    "\n",
    "\n",
    "순전파시 계산될 값들 : $\\mathbf y^{\\Sigma} ~ \\mathbf y^{\\phi} ~ \\mathbf y^{{\\phi}'}$\n",
    "\n",
    "역전파시 계산될 값들 : $ \\mathbf e^y ~ \\delta^y $"
   ]
  },
  {
   "cell_type": "code",
   "execution_count": 5,
   "metadata": {
    "id": "ja5YfC_6SQ-L"
   },
   "outputs": [],
   "source": [
    "input = np.zeros(3)\n",
    "\n",
    "# 순전파시 계산될 값들 \n",
    "h_sum, h_out, h_deriv = np.zeros(4), np.zeros(4), np.zeros(4)\n",
    "h_sum[0], h_out[0], h_deriv[0] = 1, 1, 1\n",
    "# 역전파시 계산될 값들 \n",
    "h_error, h_delta = np.zeros(4), np.zeros(4)                  \n",
    "\n",
    "# 순전파시 계산될 값들 \n",
    "y_sum, y_out, y_deriv = np.zeros(2), np.zeros(2), np.zeros(2)\n",
    "# 역전파시 계산될 값들 \n",
    "y_error, y_delta = np.zeros(2), np.zeros(2)"
   ]
  },
  {
   "cell_type": "markdown",
   "metadata": {
    "id": "XIx5LokmX29v"
   },
   "source": [
    "은닉층에서 합산된 값: $\\mathbf h^{\\Sigma} = \\mathbf U^{\\mathrm T} \\mathbf x$\n",
    "\n",
    "은닉층의 활성화 값: $\\mathbf h^{\\phi} = \\phi(\\mathbf h^{\\Sigma})$\n",
    "\n",
    "은닉층 활성화 미분치: $\\mathbf h^{{\\phi}'} = \\phi'(\\mathbf h^{\\Sigma})$"
   ]
  },
  {
   "cell_type": "code",
   "execution_count": 6,
   "metadata": {
    "id": "cS8fw2cLSUhq"
   },
   "outputs": [],
   "source": [
    "def forward_xh(x):\n",
    "    global input, h_sum, h_out, h_deriv\n",
    "    input = np.append(1, x) # 입력 벡터의 첫번째 항은 bias 노드로 1을 대입함. 벡터 input=[1, x1, x2]\n",
    "    t_sum = U.T.dot(input)# 은닉층에서 합산된 값\n",
    "    h_sum = np.append(1,t_sum) # h_sum 벡터의 첫번째 원소는 입력벡터와 가중치 곱으로 계산이 안됨\n",
    "    h_out = sigmoid(h_sum)  # 은닉층의 활성화 값. h_out = [1, h1, h2, h3]\n",
    "    h_out[0] = 1  #은닉층의 첫번째 노드는 bias 노드임으로 출력값을 1로 설정\n",
    "    h_deriv = derivative_sigmoid(h_out)    # 은닉층 활성화 미분치"
   ]
  },
  {
   "cell_type": "markdown",
   "metadata": {
    "id": "eCv1E9ifYUmP"
   },
   "source": [
    "출력층에서 합산된 값: $\\mathbf y^{\\Sigma} = \\mathbf W^{\\mathrm T} \\mathbf x$\n",
    "\n",
    "출력층의 활성화 값: $\\mathbf y^{\\phi} = \\phi(\\mathbf y^{\\Sigma})$\n",
    "\n",
    "출력층 활성화 미분치: $\\mathbf y^{{\\phi}'} = \\phi'(\\mathbf y^{\\Sigma})$"
   ]
  },
  {
   "cell_type": "code",
   "execution_count": 7,
   "metadata": {
    "id": "noDseci6Snpo"
   },
   "outputs": [],
   "source": [
    "def forward_hy():\n",
    "    global y_sum, y_out, y_deriv\n",
    "    y_sum = W.T.dot(h_out)                  # 출력층에서 합산된 값\n",
    "    y_out = sigmoid(y_sum)                  # 출력층의 활성화 값\n",
    "    y_deriv = derivative_sigmoid(y_out)    # 출력층의 활성화 미분치"
   ]
  },
  {
   "cell_type": "markdown",
   "metadata": {
    "id": "Tw_5W1MKYyBM"
   },
   "source": [
    "오차 계산: $ \\mathbf y^{\\phi} - \\mathbf t$"
   ]
  },
  {
   "cell_type": "code",
   "execution_count": 8,
   "metadata": {
    "id": "voh88bUeSqVB"
   },
   "outputs": [],
   "source": [
    "def compute_error(target):\n",
    "    return y_out - target                  # 오차의 계산"
   ]
  },
  {
   "cell_type": "markdown",
   "metadata": {
    "id": "7YB0l0cJZJPe"
   },
   "source": [
    "출력층 오차 : $\\mathbf e^y$\n",
    "\n",
    "출력층에서 보내는 델타: $\\delta^y = \\mathbf y^{{\\phi}'} \\otimes \\mathbf e^y$\n",
    "\n",
    "연결강도 갱신: $\\Delta \\mathbf W = \\eta \\mathbf h^{\\phi} {\\delta^y}^{\\mathrm T}$"
   ]
  },
  {
   "cell_type": "code",
   "execution_count": 9,
   "metadata": {
    "id": "-3zlHV2aSsjZ"
   },
   "outputs": [],
   "source": [
    "def backward_y(error):\n",
    "    global y_error, y_delta, W\n",
    "    y_error = error                                    # 출력층 오차\n",
    "    y_delta = y_deriv * y_error                        # 출력층에서 보내는 델타\n",
    "    ## 연결강도 W 수정\n",
    "    dW = - learning_rate * np.outer(h_out, y_delta)    # 연결강도 갱신: 은닉층 출력과 출력층 델타의 외적\n",
    "    W = W + dW   "
   ]
  },
  {
   "cell_type": "markdown",
   "metadata": {
    "id": "xOVJU17Sau-J"
   },
   "source": [
    "은닉층 오차 : $\\mathbf e^h = \\mathbf W \\delta^y$\n",
    "\n",
    "은닉층에서 보내는 델타: $\\delta^h = \\mathbf h^{{\\phi}'} \\otimes \\mathbf e^h$\n",
    "\n",
    "연결강도 갱신: $\\Delta \\mathbf U = \\eta \\mathbf x^{\\phi} {\\delta^h}^{\\mathrm T}$"
   ]
  },
  {
   "cell_type": "code",
   "execution_count": 13,
   "metadata": {
    "id": "PlE54jkLSvNC"
   },
   "outputs": [],
   "source": [
    "def backward_h():\n",
    "   global h_error, h_delta, U\n",
    "   h_error = W.dot(y_delta)                             # 은닉층 오차\n",
    "   h_delta = h_deriv * h_error                          # 은닉층 오차를 입력측에 전달하기 위한 델타\n",
    "   t_delta = np.delete(h_delta,0) #h_delta 벡터의 첫 번째 원소는 bias 항임으로 입력층으로 전달되지 않음\n",
    "   \n",
    "## 연결강도 U 수정\n",
    "   dU = - learning_rate * np.outer(input, t_delta)      # 연결강도 갱신\n",
    "   U = U + dU  "
   ]
  },
  {
   "cell_type": "code",
   "execution_count": 11,
   "metadata": {
    "id": "t0e4ZygcSx_z"
   },
   "outputs": [],
   "source": [
    "def train(x, target):\n",
    "    forward_xh(x)\n",
    "    forward_hy()\n",
    "    e = compute_error(target)\n",
    "    backward_y(e)\n",
    "    backward_h()\n",
    "    return e**2"
   ]
  },
  {
   "cell_type": "code",
   "execution_count": 14,
   "metadata": {
    "id": "v5vUsbKmS0bM",
    "scrolled": false
   },
   "outputs": [],
   "source": [
    "loss = []\n",
    "\n",
    "for i in range(1500):\n",
    "    e_accum=0\n",
    "    true = np.array([1,0])\n",
    "    false = np.array([0,1])\n",
    "    e_accum += train(np.array([0,0]), false)    # 훈련 데이터 1 \n",
    "    e_accum += train(np.array([0,1]), true)     # 훈련 데이터 2\n",
    "    e_accum += train(np.array([1,0]), true)     # 훈련 데이터 3\n",
    "    e_accum += train(np.array([1,1]), false)    # 훈련 데이터 4\n",
    "    loss.append(e_accum)"
   ]
  },
  {
   "cell_type": "code",
   "execution_count": 204,
   "metadata": {
    "colab": {
     "base_uri": "https://localhost:8080/",
     "height": 279
    },
    "executionInfo": {
     "elapsed": 990,
     "status": "ok",
     "timestamp": 1620361103830,
     "user": {
      "displayName": "박동규",
      "photoUrl": "",
      "userId": "10745738943866733973"
     },
     "user_tz": -540
    },
    "id": "9gQO_AFPS4KF",
    "outputId": "76c1efa5-f75e-4a58-dba9-52ccdd273574"
   },
   "outputs": [
    {
     "data": {
      "image/png": "[encoded data removed]",
      "text/plain": [
       "<Figure size 432x288 with 1 Axes>"
      ]
     },
     "metadata": {
      "needs_background": "light"
     },
     "output_type": "display_data"
    }
   ],
   "source": [
    "plt.plot(loss)\n",
    "plt.ylabel('loss')\n",
    "plt.xlabel('training')\n",
    "plt.show()"
   ]
  },
  {
   "cell_type": "code",
   "execution_count": 15,
   "metadata": {
    "id": "nArPP0bkTFnx"
   },
   "outputs": [],
   "source": [
    "def test(X):\n",
    "    y_hat = []\n",
    "    for x in X:\n",
    "        forward_xh(x)\n",
    "        forward_hy()\n",
    "        y_hat.append(y_out)\n",
    "    return y_hat"
   ]
  },
  {
   "cell_type": "code",
   "execution_count": 16,
   "metadata": {
    "colab": {
     "base_uri": "https://localhost:8080/"
    },
    "executionInfo": {
     "elapsed": 602,
     "status": "ok",
     "timestamp": 1620361106978,
     "user": {
      "displayName": "박동규",
      "photoUrl": "",
      "userId": "10745738943866733973"
     },
     "user_tz": -540
    },
    "id": "36glHze-UZqu",
    "outputId": "4d664c8a-ca68-4272-be31-8c7d5a14bab3"
   },
   "outputs": [
    {
     "data": {
      "text/plain": [
       "[array([0.02037896, 0.97985464]),\n",
       " array([0.96738495, 0.03266338]),\n",
       " array([0.9569335 , 0.04283501]),\n",
       " array([0.04977395, 0.95035213])]"
      ]
     },
     "execution_count": 16,
     "metadata": {},
     "output_type": "execute_result"
    }
   ],
   "source": [
    "test(np.array([[0, 0], [0, 1], [1, 0], [1, 1]]))"
   ]
  },
  {
   "cell_type": "markdown",
   "metadata": {
    "id": "JgQi1smwPxxL"
   },
   "source": [
    "\n",
    "\n",
    "### LAB 7-6 : 다층 퍼셉트론으로 비선형 회귀 구현하기"
   ]
  },
  {
   "cell_type": "code",
   "execution_count": 17,
   "metadata": {
    "colab": {
     "base_uri": "https://localhost:8080/",
     "height": 283
    },
    "executionInfo": {
     "elapsed": 1253,
     "status": "ok",
     "timestamp": 1620361213584,
     "user": {
      "displayName": "박동규",
      "photoUrl": "",
      "userId": "10745738943866733973"
     },
     "user_tz": -540
    },
    "id": "D54qOTCrVbVO",
    "outputId": "57b621b4-dd66-496d-a7c7-1397f1c570d5"
   },
   "outputs": [
    {
     "data": {
      "text/plain": [
       "<matplotlib.collections.PathCollection at 0x1eb7c407a90>"
      ]
     },
     "execution_count": 17,
     "metadata": {},
     "output_type": "execute_result"
    },
    {
     "data": {
      "image/png": "[encoded data removed]",
      "text/plain": [
       "<Figure size 432x288 with 1 Axes>"
      ]
     },
     "metadata": {
      "needs_background": "light"
     },
     "output_type": "display_data"
    }
   ],
   "source": [
    "import pandas as pd\n",
    "import matplotlib.pyplot as plt\n",
    "import numpy as np\n",
    "\n",
    "data_loc = './data/'\n",
    "df = pd.read_csv(data_loc+'nonlinear.csv')\n",
    "plt.scatter(df['x'], df['y'])"
   ]
  },
  {
   "cell_type": "code",
   "execution_count": 18,
   "metadata": {
    "id": "B59BZXWLVcFK"
   },
   "outputs": [],
   "source": [
    "nx, nh1, nh2, ny = 1, 6, 4, 1\n",
    "U = np.random.randn(nx , nh1)*2\n",
    "V = np.random.randn(nh1, nh2)*2\n",
    "W = np.random.randn(nh2, ny)*2\n",
    "learning_rate = 0.1"
   ]
  },
  {
   "cell_type": "code",
   "execution_count": 19,
   "metadata": {
    "id": "vasOkRuXDhxL"
   },
   "outputs": [],
   "source": [
    "def sigmoid(v):\n",
    "    return 1 / (1+np.exp(-v))"
   ]
  },
  {
   "cell_type": "code",
   "execution_count": 20,
   "metadata": {
    "id": "U2-84_rGDmAg"
   },
   "outputs": [],
   "source": [
    "input = np.zeros(nx)\n",
    "\n",
    "h1_out, h1_deriv = np.zeros(nh1), np.zeros(nh1) # 순전파시 계산 - 은닉계층 1\n",
    "h1_delta = np.zeros(nh1)                        # 역전파시 계산\n",
    "\n",
    "h2_out, h2_deriv = np.zeros(nh2), np.zeros(nh2) # 순전파시 계산 - 은닉계층 2\n",
    "h2_delta = np.zeros(nh2)                        # 역전파시 계산\n",
    "\n",
    "y_out, y_deriv = np.zeros(ny), np.zeros(ny)     # 순전파시 계산 - 출력계층\n",
    "y_delta = np.zeros(ny)                          # 역전파시 계산"
   ]
  },
  {
   "cell_type": "code",
   "execution_count": 21,
   "metadata": {
    "id": "oLkcOCYLDoZQ"
   },
   "outputs": [],
   "source": [
    "def forward(x):\n",
    "    global input, h1_out, h1_deriv, h2_out, h2_deriv, y_out, y_deriv\n",
    "    input = x\n",
    "    h1_out = sigmoid ( U.T.dot(input) )          # 은닉계층 1로 전파\n",
    "    h1_deriv = h1_out * (1 - h1_out)             # 은닉계층 1의 미분\n",
    "\n",
    "    h2_out = sigmoid ( V.T.dot(h1_out) )         # 은닉계층 2로 전파\n",
    "    h2_deriv = h2_out * (1 - h2_out)             # 은닉계층 2의 미분\n",
    "  \n",
    "    y_out = sigmoid( W.T.dot(h2_out) )           # 출력계층으로 전파\n",
    "    y_deriv = y_out * (1 - y_out)                # 출력계층의 미분"
   ]
  },
  {
   "cell_type": "code",
   "execution_count": 22,
   "metadata": {
    "id": "Otl8f2-2DqpI"
   },
   "outputs": [],
   "source": [
    "def compute_error(target):\n",
    "    return y_out - target"
   ]
  },
  {
   "cell_type": "code",
   "execution_count": 23,
   "metadata": {
    "id": "vjCpMKsUDs1Q"
   },
   "outputs": [],
   "source": [
    "def backward(error):\n",
    "    global y_delta, W, h2_delta, V, h1_delta, U\n",
    "  \n",
    "    y_delta = y_deriv * error                         # 출력 계층의 델타\n",
    "    dW = - learning_rate * np.outer(h2_out, y_delta)  # W의 수정\n",
    "    W = W + dW\n",
    "    \n",
    "    h2_delta = h2_deriv * W.dot(y_delta)              # 은닉 계층 2의 델타\n",
    "    dV = - learning_rate * np.outer(h1_out, h2_delta) # V의 수정\n",
    "    V = V + dV\n",
    "    \n",
    "    h1_delta = h1_deriv * V.dot(h2_delta)             # 은닉 계층 1의 델타\n",
    "    dU = - learning_rate * np.outer(input, h1_delta)  # U의 수정\n",
    "    U = U + dU"
   ]
  },
  {
   "cell_type": "code",
   "execution_count": 24,
   "metadata": {
    "id": "5hPJ6RMyDuzf"
   },
   "outputs": [],
   "source": [
    "def train(x, target):\n",
    "    forward(x)\n",
    "    e = compute_error(target)\n",
    "    backward(e)\n",
    "    return e**2"
   ]
  },
  {
   "cell_type": "code",
   "execution_count": 25,
   "metadata": {
    "id": "SH0chacbDwzY"
   },
   "outputs": [],
   "source": [
    "loss = []\n",
    "X = df['x'].to_numpy()\n",
    "y_label = df['y'].to_numpy()\n",
    "for i in range(200): # 200 epoch을 수행\n",
    "    e_accum = 0\n",
    "    for x, y in zip(X, y_label): # Stochastic Gradient Descent Method 수행\n",
    "        e_accum += train(x, y)\n",
    "    loss.append(e_accum)"
   ]
  },
  {
   "cell_type": "code",
   "execution_count": 243,
   "metadata": {
    "colab": {
     "base_uri": "https://localhost:8080/",
     "height": 265
    },
    "executionInfo": {
     "elapsed": 635,
     "status": "ok",
     "timestamp": 1620361321276,
     "user": {
      "displayName": "박동규",
      "photoUrl": "",
      "userId": "10745738943866733973"
     },
     "user_tz": -540
    },
    "id": "1yMJs12lD1Cv",
    "outputId": "e1dbddf6-31e0-49e7-cd32-c1ae44c719a4"
   },
   "outputs": [
    {
     "data": {
      "image/png": "[encoded data removed]",
      "text/plain": [
       "<Figure size 432x288 with 1 Axes>"
      ]
     },
     "metadata": {
      "needs_background": "light"
     },
     "output_type": "display_data"
    }
   ],
   "source": [
    "err_log = np.array(loss).flatten()\n",
    "plt.plot(err_log)\n",
    "plt.show()"
   ]
  },
  {
   "cell_type": "code",
   "execution_count": 26,
   "metadata": {
    "id": "zoeerS03D4jH"
   },
   "outputs": [],
   "source": [
    "def predict(X):\n",
    "    y_hat = []\n",
    "    for x in X:\n",
    "        forward(x)\n",
    "        y_hat.append(y_out)\n",
    "    return y_hat"
   ]
  },
  {
   "cell_type": "code",
   "execution_count": 27,
   "metadata": {
    "colab": {
     "base_uri": "https://localhost:8080/",
     "height": 283
    },
    "executionInfo": {
     "elapsed": 905,
     "status": "ok",
     "timestamp": 1620361372715,
     "user": {
      "displayName": "박동규",
      "photoUrl": "",
      "userId": "10745738943866733973"
     },
     "user_tz": -540
    },
    "id": "dr3yC1WoD7nP",
    "outputId": "8442adb7-4769-4efc-e329-a2b00a62b974"
   },
   "outputs": [
    {
     "name": "stdout",
     "output_type": "stream",
     "text": [
      "[[0.        ]\n",
      " [0.01010101]\n",
      " [0.02020202]\n",
      " [0.03030303]\n",
      " [0.04040404]\n",
      " [0.05050505]\n",
      " [0.06060606]\n",
      " [0.07070707]\n",
      " [0.08080808]\n",
      " [0.09090909]\n",
      " [0.1010101 ]\n",
      " [0.11111111]\n",
      " [0.12121212]\n",
      " [0.13131313]\n",
      " [0.14141414]\n",
      " [0.15151515]\n",
      " [0.16161616]\n",
      " [0.17171717]\n",
      " [0.18181818]\n",
      " [0.19191919]\n",
      " [0.2020202 ]\n",
      " [0.21212121]\n",
      " [0.22222222]\n",
      " [0.23232323]\n",
      " [0.24242424]\n",
      " [0.25252525]\n",
      " [0.26262626]\n",
      " [0.27272727]\n",
      " [0.28282828]\n",
      " [0.29292929]\n",
      " [0.3030303 ]\n",
      " [0.31313131]\n",
      " [0.32323232]\n",
      " [0.33333333]\n",
      " [0.34343434]\n",
      " [0.35353535]\n",
      " [0.36363636]\n",
      " [0.37373737]\n",
      " [0.38383838]\n",
      " [0.39393939]\n",
      " [0.4040404 ]\n",
      " [0.41414141]\n",
      " [0.42424242]\n",
      " [0.43434343]\n",
      " [0.44444444]\n",
      " [0.45454545]\n",
      " [0.46464646]\n",
      " [0.47474747]\n",
      " [0.48484848]\n",
      " [0.49494949]\n",
      " [0.50505051]\n",
      " [0.51515152]\n",
      " [0.52525253]\n",
      " [0.53535354]\n",
      " [0.54545455]\n",
      " [0.55555556]\n",
      " [0.56565657]\n",
      " [0.57575758]\n",
      " [0.58585859]\n",
      " [0.5959596 ]\n",
      " [0.60606061]\n",
      " [0.61616162]\n",
      " [0.62626263]\n",
      " [0.63636364]\n",
      " [0.64646465]\n",
      " [0.65656566]\n",
      " [0.66666667]\n",
      " [0.67676768]\n",
      " [0.68686869]\n",
      " [0.6969697 ]\n",
      " [0.70707071]\n",
      " [0.71717172]\n",
      " [0.72727273]\n",
      " [0.73737374]\n",
      " [0.74747475]\n",
      " [0.75757576]\n",
      " [0.76767677]\n",
      " [0.77777778]\n",
      " [0.78787879]\n",
      " [0.7979798 ]\n",
      " [0.80808081]\n",
      " [0.81818182]\n",
      " [0.82828283]\n",
      " [0.83838384]\n",
      " [0.84848485]\n",
      " [0.85858586]\n",
      " [0.86868687]\n",
      " [0.87878788]\n",
      " [0.88888889]\n",
      " [0.8989899 ]\n",
      " [0.90909091]\n",
      " [0.91919192]\n",
      " [0.92929293]\n",
      " [0.93939394]\n",
      " [0.94949495]\n",
      " [0.95959596]\n",
      " [0.96969697]\n",
      " [0.97979798]\n",
      " [0.98989899]\n",
      " [1.        ]]\n"
     ]
    },
    {
     "data": {
      "text/plain": [
       "<matplotlib.collections.PathCollection at 0x1eb7c4f4a90>"
      ]
     },
     "execution_count": 27,
     "metadata": {},
     "output_type": "execute_result"
    },
    {
     "data": {
      "image/png": "[encoded data removed]",
      "text/plain": [
       "<Figure size 432x288 with 1 Axes>"
      ]
     },
     "metadata": {
      "needs_background": "light"
     },
     "output_type": "display_data"
    }
   ],
   "source": [
    "domain = np.linspace(0, 1, 100).reshape(-1,1) # 입력은 2차원 벡터로 변형\n",
    "print(domain)\n",
    "y_hat = predict(domain)\n",
    "plt.scatter(df['x'], df['y'])\n",
    "plt.scatter(domain, y_hat, color='r')"
   ]
  },
  {
   "cell_type": "markdown",
   "metadata": {
    "id": "Lu1uaez9EI8Q"
   },
   "source": [
    "### 7.11 신경망을 쉽게 설계하고 훈련을 실시할 수 있는 도구 활용"
   ]
  },
  {
   "cell_type": "code",
   "execution_count": 28,
   "metadata": {
    "id": "Q4tax9HxELdw"
   },
   "outputs": [],
   "source": [
    "import pandas as pd\n",
    "import numpy as np\n",
    "import matplotlib.pyplot as plt\n",
    "\n",
    "# 텐서플로우와 케라스를 사용할 수 있도록 준비\n",
    "import tensorflow as tf\n",
    "from tensorflow import keras"
   ]
  },
  {
   "cell_type": "code",
   "execution_count": 29,
   "metadata": {
    "id": "U2sAfKo7EObI"
   },
   "outputs": [],
   "source": [
    "model = keras.models.Sequential( [\n",
    "    keras.layers.Dense(6, activation= 'sigmoid'),\n",
    "    keras.layers.Dense(4, activation= 'sigmoid'),\n",
    "    keras.layers.Dense(1, activation= 'sigmoid'),\n",
    "])"
   ]
  },
  {
   "cell_type": "code",
   "execution_count": 30,
   "metadata": {
    "id": "H8_WbPmWEQgQ"
   },
   "outputs": [],
   "source": [
    "optimizer = keras.optimizers.SGD(learning_rate=5.0)\n",
    "model.compile(optimizer=optimizer, loss='mse')"
   ]
  },
  {
   "cell_type": "code",
   "execution_count": 31,
   "metadata": {
    "id": "u8LHaN2PESnQ"
   },
   "outputs": [],
   "source": [
    "data_loc = './data/'\n",
    "df = pd.read_csv(data_loc+'nonlinear.csv')\n",
    "X = df['x'].to_numpy()\n",
    "y_label = df['y'].to_numpy()"
   ]
  },
  {
   "cell_type": "code",
   "execution_count": 32,
   "metadata": {
    "colab": {
     "base_uri": "https://localhost:8080/"
    },
    "executionInfo": {
     "elapsed": 5631,
     "status": "ok",
     "timestamp": 1620361444786,
     "user": {
      "displayName": "박동규",
      "photoUrl": "",
      "userId": "10745738943866733973"
     },
     "user_tz": -540
    },
    "id": "YGgPyzcQEUXH",
    "outputId": "f774621b-ce2c-47c6-f8c7-396251d9ce27"
   },
   "outputs": [
    {
     "name": "stdout",
     "output_type": "stream",
     "text": [
      "Epoch 1/100\n",
      "32/32 [==============================] - 0s 436us/step - loss: 0.6197\n",
      "Epoch 2/100\n",
      "32/32 [==============================] - 0s 436us/step - loss: 0.6285\n",
      "Epoch 3/100\n",
      "32/32 [==============================] - 0s 468us/step - loss: 0.6117\n",
      "Epoch 4/100\n",
      "32/32 [==============================] - 0s 499us/step - loss: 0.5745\n",
      "Epoch 5/100\n",
      "32/32 [==============================] - 0s 530us/step - loss: 0.5048\n",
      "Epoch 6/100\n",
      "32/32 [==============================] - 0s 405us/step - loss: 0.4450\n",
      "Epoch 7/100\n",
      "32/32 [==============================] - 0s 467us/step - loss: 0.4219\n",
      "Epoch 8/100\n",
      "32/32 [==============================] - 0s 468us/step - loss: 0.4152\n",
      "Epoch 9/100\n",
      "32/32 [==============================] - 0s 462us/step - loss: 0.4177\n",
      "Epoch 10/100\n",
      "32/32 [==============================] - 0s 499us/step - loss: 0.4104\n",
      "Epoch 11/100\n",
      "32/32 [==============================] - 0s 499us/step - loss: 0.4053\n",
      "Epoch 12/100\n",
      "32/32 [==============================] - 0s 530us/step - loss: 0.4099\n",
      "Epoch 13/100\n",
      "32/32 [==============================] - 0s 405us/step - loss: 0.4049\n",
      "Epoch 14/100\n",
      "32/32 [==============================] - 0s 530us/step - loss: 0.4070\n",
      "Epoch 15/100\n",
      "32/32 [==============================] - 0s 496us/step - loss: 0.4033\n",
      "Epoch 16/100\n",
      "32/32 [==============================] - 0s 436us/step - loss: 0.4041\n",
      "Epoch 17/100\n",
      "32/32 [==============================] - 0s 436us/step - loss: 0.4053\n",
      "Epoch 18/100\n",
      "32/32 [==============================] - 0s 436us/step - loss: 0.4043\n",
      "Epoch 19/100\n",
      "32/32 [==============================] - 0s 452us/step - loss: 0.4028\n",
      "Epoch 20/100\n",
      "32/32 [==============================] - 0s 374us/step - loss: 0.4019\n",
      "Epoch 21/100\n",
      "32/32 [==============================] - 0s 423us/step - loss: 0.4016\n",
      "Epoch 22/100\n",
      "32/32 [==============================] - 0s 467us/step - loss: 0.4046\n",
      "Epoch 23/100\n",
      "32/32 [==============================] - 0s 479us/step - loss: 0.4038\n",
      "Epoch 24/100\n",
      "32/32 [==============================] - 0s 561us/step - loss: 0.4010\n",
      "Epoch 25/100\n",
      "32/32 [==============================] - 0s 390us/step - loss: 0.4019\n",
      "Epoch 26/100\n",
      "32/32 [==============================] - 0s 499us/step - loss: 0.4020\n",
      "Epoch 27/100\n",
      "32/32 [==============================] - 0s 424us/step - loss: 0.4041\n",
      "Epoch 28/100\n",
      "32/32 [==============================] - 0s 499us/step - loss: 0.4038\n",
      "Epoch 29/100\n",
      "32/32 [==============================] - 0s 436us/step - loss: 0.4037\n",
      "Epoch 30/100\n",
      "32/32 [==============================] - 0s 467us/step - loss: 0.4007\n",
      "Epoch 31/100\n",
      "32/32 [==============================] - 0s 530us/step - loss: 0.4041\n",
      "Epoch 32/100\n",
      "32/32 [==============================] - ETA: 0s - loss: 0.394 - 0s 561us/step - loss: 0.4048\n",
      "Epoch 33/100\n",
      "32/32 [==============================] - 0s 530us/step - loss: 0.4023\n",
      "Epoch 34/100\n",
      "32/32 [==============================] - 0s 490us/step - loss: 0.4011\n",
      "Epoch 35/100\n",
      "32/32 [==============================] - 0s 467us/step - loss: 0.4020\n",
      "Epoch 36/100\n",
      "32/32 [==============================] - 0s 436us/step - loss: 0.4030\n",
      "Epoch 37/100\n",
      "32/32 [==============================] - 0s 467us/step - loss: 0.4008\n",
      "Epoch 38/100\n",
      "32/32 [==============================] - 0s 374us/step - loss: 0.4034\n",
      "Epoch 39/100\n",
      "32/32 [==============================] - 0s 436us/step - loss: 0.3987\n",
      "Epoch 40/100\n",
      "32/32 [==============================] - 0s 436us/step - loss: 0.4023\n",
      "Epoch 41/100\n",
      "32/32 [==============================] - 0s 374us/step - loss: 0.3998\n",
      "Epoch 42/100\n",
      "32/32 [==============================] - 0s 468us/step - loss: 0.3989\n",
      "Epoch 43/100\n",
      "32/32 [==============================] - 0s 421us/step - loss: 0.3980\n",
      "Epoch 44/100\n",
      "32/32 [==============================] - 0s 436us/step - loss: 0.4024\n",
      "Epoch 45/100\n",
      "32/32 [==============================] - 0s 405us/step - loss: 0.3993\n",
      "Epoch 46/100\n",
      "32/32 [==============================] - 0s 436us/step - loss: 0.3954\n",
      "Epoch 47/100\n",
      "32/32 [==============================] - 0s 468us/step - loss: 0.3929\n",
      "Epoch 48/100\n",
      "32/32 [==============================] - 0s 561us/step - loss: 0.3928\n",
      "Epoch 49/100\n",
      "32/32 [==============================] - 0s 468us/step - loss: 0.3871\n",
      "Epoch 50/100\n",
      "32/32 [==============================] - 0s 499us/step - loss: 0.3847\n",
      "Epoch 51/100\n",
      "32/32 [==============================] - 0s 468us/step - loss: 0.3797\n",
      "Epoch 52/100\n",
      "32/32 [==============================] - 0s 436us/step - loss: 0.3753\n",
      "Epoch 53/100\n",
      "32/32 [==============================] - 0s 405us/step - loss: 0.3765\n",
      "Epoch 54/100\n",
      "32/32 [==============================] - 0s 405us/step - loss: 0.3733\n",
      "Epoch 55/100\n",
      "32/32 [==============================] - 0s 436us/step - loss: 0.3672\n",
      "Epoch 56/100\n",
      "32/32 [==============================] - 0s 467us/step - loss: 0.3699\n",
      "Epoch 57/100\n",
      "32/32 [==============================] - 0s 468us/step - loss: 0.3681\n",
      "Epoch 58/100\n",
      "32/32 [==============================] - ETA: 0s - loss: 0.388 - 0s 436us/step - loss: 0.3744\n",
      "Epoch 59/100\n",
      "32/32 [==============================] - 0s 468us/step - loss: 0.3651\n",
      "Epoch 60/100\n",
      "32/32 [==============================] - 0s 468us/step - loss: 0.3665\n",
      "Epoch 61/100\n",
      "32/32 [==============================] - 0s 374us/step - loss: 0.3718\n",
      "Epoch 62/100\n",
      "32/32 [==============================] - 0s 499us/step - loss: 0.3686\n",
      "Epoch 63/100\n",
      "32/32 [==============================] - 0s 374us/step - loss: 0.3685\n",
      "Epoch 64/100\n",
      "32/32 [==============================] - 0s 436us/step - loss: 0.3735\n",
      "Epoch 65/100\n",
      "32/32 [==============================] - 0s 405us/step - loss: 0.3723\n",
      "Epoch 66/100\n",
      "32/32 [==============================] - 0s 405us/step - loss: 0.3687\n",
      "Epoch 67/100\n",
      "32/32 [==============================] - 0s 405us/step - loss: 0.3680\n",
      "Epoch 68/100\n",
      "32/32 [==============================] - 0s 436us/step - loss: 0.3656\n",
      "Epoch 69/100\n",
      "32/32 [==============================] - 0s 452us/step - loss: 0.3712\n",
      "Epoch 70/100\n",
      "32/32 [==============================] - 0s 467us/step - loss: 0.3692\n",
      "Epoch 71/100\n",
      "32/32 [==============================] - 0s 374us/step - loss: 0.3660\n",
      "Epoch 72/100\n",
      "32/32 [==============================] - 0s 623us/step - loss: 0.3691\n",
      "Epoch 73/100\n",
      "32/32 [==============================] - 0s 405us/step - loss: 0.3638\n",
      "Epoch 74/100\n",
      "32/32 [==============================] - 0s 436us/step - loss: 0.3690\n",
      "Epoch 75/100\n",
      "32/32 [==============================] - 0s 405us/step - loss: 0.3651\n",
      "Epoch 76/100\n",
      "32/32 [==============================] - 0s 424us/step - loss: 0.3666\n",
      "Epoch 77/100\n",
      "32/32 [==============================] - 0s 530us/step - loss: 0.3674\n",
      "Epoch 78/100\n",
      "32/32 [==============================] - 0s 436us/step - loss: 0.3672\n",
      "Epoch 79/100\n",
      "32/32 [==============================] - 0s 467us/step - loss: 0.3745\n",
      "Epoch 80/100\n",
      "32/32 [==============================] - 0s 374us/step - loss: 0.3653\n",
      "Epoch 81/100\n",
      "32/32 [==============================] - 0s 436us/step - loss: 0.3678\n",
      "Epoch 82/100\n",
      "32/32 [==============================] - 0s 426us/step - loss: 0.3698\n",
      "Epoch 83/100\n",
      "32/32 [==============================] - 0s 394us/step - loss: 0.3668\n",
      "Epoch 84/100\n",
      "32/32 [==============================] - 0s 467us/step - loss: 0.3661\n",
      "Epoch 85/100\n",
      "32/32 [==============================] - 0s 467us/step - loss: 0.3660\n",
      "Epoch 86/100\n",
      "32/32 [==============================] - 0s 375us/step - loss: 0.3694\n",
      "Epoch 87/100\n",
      "32/32 [==============================] - 0s 530us/step - loss: 0.3674\n",
      "Epoch 88/100\n",
      "32/32 [==============================] - 0s 378us/step - loss: 0.3668\n",
      "Epoch 89/100\n",
      "32/32 [==============================] - 0s 492us/step - loss: 0.3659\n",
      "Epoch 90/100\n",
      "32/32 [==============================] - 0s 436us/step - loss: 0.3685\n",
      "Epoch 91/100\n",
      "32/32 [==============================] - 0s 500us/step - loss: 0.3643\n",
      "Epoch 92/100\n",
      "32/32 [==============================] - 0s 436us/step - loss: 0.3682\n",
      "Epoch 93/100\n",
      "32/32 [==============================] - 0s 467us/step - loss: 0.3649\n",
      "Epoch 94/100\n",
      "32/32 [==============================] - 0s 436us/step - loss: 0.3677\n",
      "Epoch 95/100\n",
      "32/32 [==============================] - 0s 530us/step - loss: 0.3629\n",
      "Epoch 96/100\n",
      "32/32 [==============================] - 0s 468us/step - loss: 0.3671\n",
      "Epoch 97/100\n",
      "32/32 [==============================] - 0s 436us/step - loss: 0.3679\n",
      "Epoch 98/100\n",
      "32/32 [==============================] - 0s 436us/step - loss: 0.3626\n",
      "Epoch 99/100\n"
     ]
    },
    {
     "name": "stdout",
     "output_type": "stream",
     "text": [
      "32/32 [==============================] - 0s 467us/step - loss: 0.3633\n",
      "Epoch 100/100\n",
      "32/32 [==============================] - 0s 467us/step - loss: 0.3647\n"
     ]
    },
    {
     "data": {
      "text/plain": [
       "<tensorflow.python.keras.callbacks.History at 0x1eb0ad50d30>"
      ]
     },
     "execution_count": 32,
     "metadata": {},
     "output_type": "execute_result"
    }
   ],
   "source": [
    "model.fit(X, y_label, epochs=100)"
   ]
  },
  {
   "cell_type": "code",
   "execution_count": 254,
   "metadata": {
    "colab": {
     "base_uri": "https://localhost:8080/",
     "height": 283
    },
    "executionInfo": {
     "elapsed": 1215,
     "status": "ok",
     "timestamp": 1620361458932,
     "user": {
      "displayName": "박동규",
      "photoUrl": "",
      "userId": "10745738943866733973"
     },
     "user_tz": -540
    },
    "id": "ACA2gF-6EWeQ",
    "outputId": "c8188d81-6bb7-4b5c-bc42-54612f7d9eab"
   },
   "outputs": [
    {
     "data": {
      "text/plain": [
       "<matplotlib.collections.PathCollection at 0x2c47243d470>"
      ]
     },
     "execution_count": 254,
     "metadata": {},
     "output_type": "execute_result"
    },
    {
     "data": {
      "image/png": "[encoded data removed]",
      "text/plain": [
       "<Figure size 432x288 with 1 Axes>"
      ]
     },
     "metadata": {
      "needs_background": "light"
     },
     "output_type": "display_data"
    }
   ],
   "source": [
    "domain = np.linspace(0, 1, 100).reshape(-1,1) # 입력은 2차원 벡터로 변형\n",
    "y_hat = model.predict(domain)\n",
    "plt.scatter(df['x'], df['y'])\n",
    "plt.scatter(domain, y_hat, color='r')"
   ]
  },
  {
   "cell_type": "code",
   "execution_count": null,
   "metadata": {},
   "outputs": [],
   "source": []
  }
 ],
 "metadata": {
  "colab": {
   "collapsed_sections": [],
   "name": "7장_코드.ipynb",
   "provenance": []
  },
  "kernelspec": {
   "display_name": "Python 3",
   "language": "python",
   "name": "python3"
  },
  "language_info": {
   "codemirror_mode": {
    "name": "ipython",
    "version": 3
   },
   "file_extension": ".py",
   "mimetype": "text/x-python",
   "name": "python",
   "nbconvert_exporter": "python",
   "pygments_lexer": "ipython3",
   "version": "3.7.3"
  }
 },
 "nbformat": 4,
 "nbformat_minor": 1
}
